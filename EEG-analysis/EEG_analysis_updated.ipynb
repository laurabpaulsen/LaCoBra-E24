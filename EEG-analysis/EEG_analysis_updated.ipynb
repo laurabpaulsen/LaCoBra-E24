{
 "cells": [
  {
   "cell_type": "markdown",
   "metadata": {},
   "source": [
    "# Lexical Decision Task\n",
    "Today we will try to apply the general EEG preprocessing pipeline from the MNE tutorial to the EEG data from the lexical decision task.\n"
   ]
  },
  {
   "cell_type": "markdown",
   "metadata": {},
   "source": [
    "#### Setting up Python\n",
    "Before starting to analyse our own EEG data, we need to make sure we have our virtual environment we created during the `MNE-tutorial`.\n",
    "\n",
    "1. Press `Select Kernel`, then `Python Environments...` and then choose any Python kernel. \n",
    "2. Run the code chunk below\n",
    "3. Change the kernel used to run the code in this notebook. Press where it says `Python X.XX.XX` in the top right corner, then `Select Another Kernel`, then `Jupyter kernel...` and then select `env`. If `env` does not show up, press the little refresh symbol! "
   ]
  },
  {
   "cell_type": "code",
   "execution_count": null,
   "metadata": {},
   "outputs": [],
   "source": [
    "!bash ../env_to_ipynb_kernel.sh"
   ]
  },
  {
   "cell_type": "markdown",
   "metadata": {},
   "source": [
    "# Analysis of EEG data collected!\n",
    "The workflow of preprocessing is as follows!\n",
    "1. Load the data\n",
    "2. Exclude bad channels\n",
    "3. Common average reference\n",
    "4. Filtering\n",
    "5. Artefact rejection\n",
    "6. Epoching\n",
    "7. Downsampling\n",
    "\n",
    "This is the same workflow as in the `preprocessing_tutorial.ipynb`. This notebook serves as a \"skeleton\" where you fill out the code you need. All code bits needed can be found in the notebook from yesterday! "
   ]
  },
  {
   "cell_type": "markdown",
   "metadata": {},
   "source": [
    "<div class=\"alert alert-block alert-info\"><b>Tip:</b>\n",
    "The MNE package has some really nice documentation! If you have any questions on how to use a function or if you want to see other ways you can plot your data, have a look at it! \n",
    "\n",
    "https://mne.tools/stable/index.html"
   ]
  },
  {
   "cell_type": "code",
   "execution_count": 2,
   "metadata": {},
   "outputs": [],
   "source": [
    "import mne\n",
    "from pathlib import Path\n",
    "import matplotlib\n",
    "import numpy as np\n",
    "import pandas as pd\n",
    "\n",
    "# importing a function laura and andreas made to fix the triggers depending on the logfile\n",
    "import sys\n",
    "sys.path.append(\"..\")\n",
    "\n",
    "from helper_functions import update_events_group1_group2, update_event_ids\n",
    "\n",
    "%matplotlib inline"
   ]
  },
  {
   "cell_type": "markdown",
   "metadata": {},
   "source": [
    "## 1. Load the data\n",
    "As we are no longer using sample data from MNE, the process of loading the data will be a bit different. Therefore, code to help you is provided here! **Remember to change the group_number variable!**"
   ]
  },
  {
   "cell_type": "code",
   "execution_count": null,
   "metadata": {},
   "outputs": [],
   "source": [
    "# reading the file & loading in the data\n",
    "data_folder = Path(\"/work/EEG_lab/raw\")\n",
    "group_number = \"1\"\n",
    "\n",
    "# path to the data, made using the group_name variable \n",
    "EEG_path = data_folder / \"EEG\" / f\"group{group_number}.vhdr\"\n",
    "\n",
    "raw = mne.io.read_raw_brainvision(EEG_path)\n",
    "raw.load_data()\n",
    "\n",
    "# set standard montage (let MNE know the layout of the electrodes on the cap)\n",
    "montage = mne.channels.make_standard_montage('standard_1020')\n",
    "raw.set_montage(montage, verbose=False)"
   ]
  },
  {
   "cell_type": "code",
   "execution_count": 4,
   "metadata": {},
   "outputs": [],
   "source": [
    "# reading in the csv file with experiment information\n",
    "behavioural_path = data_folder / \"behavioural\" / f\"subject-{group_number}.csv\"\n",
    "logfile = pd.read_csv(behavioural_path)\n",
    "logfile.head() # prints the first lines of the csv file\n",
    "\n",
    "# clean logfile\n",
    "logfile[\"target_gender\"] = logfile[\"target_gender\"].apply(lambda x: x.strip())\n",
    "logfile[\"target_gender\"] = logfile[\"target_gender\"].apply(lambda x: x.strip(\"??\"))"
   ]
  },
  {
   "cell_type": "markdown",
   "metadata": {},
   "source": [
    "## 2. Exclude bad channels"
   ]
  },
  {
   "cell_type": "code",
   "execution_count": 5,
   "metadata": {},
   "outputs": [],
   "source": [
    "# sometimes filtering before plotting the channels can make it more nice to look at as we are getting rid of some noise!\n",
    "# BUT IF YOU FILTER HERE NO NEED TO DO IT FURTHER ALONG :D\n",
    "# raw.filter(0.1, 40)"
   ]
  },
  {
   "cell_type": "code",
   "execution_count": null,
   "metadata": {},
   "outputs": [],
   "source": [
    "# STEP 1: Plot the raw data to help you identify bad channels\n",
    "raw.plot(\n",
    "    n_channels=32, \n",
    "    start=100, \n",
    "    scalings={\"eeg\": 250e-7}, # try modifying this value to make the plot more pleasant to look at \n",
    "    duration=10);"
   ]
  },
  {
   "cell_type": "code",
   "execution_count": 7,
   "metadata": {},
   "outputs": [],
   "source": [
    "# STEP 2: Mark bad channels as bad if there are any!"
   ]
  },
  {
   "cell_type": "code",
   "execution_count": 8,
   "metadata": {},
   "outputs": [],
   "source": [
    "# STEP 3: Remove the bad channels"
   ]
  },
  {
   "cell_type": "markdown",
   "metadata": {},
   "source": [
    "## 3. Common average reference"
   ]
  },
  {
   "cell_type": "code",
   "execution_count": null,
   "metadata": {},
   "outputs": [],
   "source": [
    "# STEP 1: Choose the common average reference\n",
    "raw.set_eeg_reference('average', projection=True)\n",
    "\n",
    "# STEP 2: applying the reference to the data\n",
    "raw.apply_proj()"
   ]
  },
  {
   "cell_type": "markdown",
   "metadata": {},
   "source": [
    "## 4. Filtering"
   ]
  },
  {
   "cell_type": "code",
   "execution_count": 10,
   "metadata": {},
   "outputs": [],
   "source": [
    "# STEP 1: high-pass filter the data at 0.1 Hz and low-pass at 40 Hz\n",
    "\n",
    "# STEP 2: plot the filtered data for inspection"
   ]
  },
  {
   "cell_type": "markdown",
   "metadata": {},
   "source": [
    "## 5. Artefact rejection"
   ]
  },
  {
   "cell_type": "code",
   "execution_count": 11,
   "metadata": {},
   "outputs": [],
   "source": [
    "# Defining the threshold, we will apply it later when we are creating epochs\n",
    "reject = dict(eeg=150e-6)# 150 µV"
   ]
  },
  {
   "cell_type": "markdown",
   "metadata": {},
   "source": [
    "## 6. Epoching"
   ]
  },
  {
   "cell_type": "code",
   "execution_count": 12,
   "metadata": {},
   "outputs": [],
   "source": [
    "event_id = {\n",
    "   # word / prime / prime_gender / age\n",
    "   'word/prime/female/adult': 11,\n",
    "   'word/prime/female/child': 12,\n",
    "   'word/prime/female/neutral': 13,\n",
    "   'word/prime/male/adult': 21,\n",
    "   'word/prime/male/child': 22,\n",
    "   'word/prime/male/neutral': 23,\n",
    "   'word/prime/neutral/adult': 31,\n",
    "   'word/prime/neutral/child': 32,\n",
    "   'word/prime/neutral/neutral': 33,\n",
    "   'word/prime/filler': 40,\n",
    "\n",
    "   # word / target / target_gender / congruency or filler or neutral (prime gender)\n",
    "   'word/target/female/congruent': 111,\n",
    "   'word/target/female/incongruent': 121,\n",
    "   'word/target/female/neutral': 131,\n",
    "   'word/target/female/filler': 141,\n",
    "   'word/target/male/incongruent': 112,\n",
    "   'word/target/male/congruent': 122,\n",
    "   'word/target/male/neutral': 132,\n",
    "   'word/target/male/filler': 142,\n",
    "   'word/target/neutral/female': 113,\n",
    "   'word/target/neutral/male': 123,\n",
    "   'word/target/neutral/neutral': 133,\n",
    "   'word/target/neutral/filler': 143,\n",
    "   'word/target/control/female': 114,\n",
    "   'word/target/control/male': 124,\n",
    "   'word/target/control/neutral': 134,\n",
    "   'word/target/control/filler': 144,\n",
    "\n",
    "   # response / correct / target_gender / congruency or filler or neutral (prime gender) / button that was pressed\n",
    "   'response/incorrect/female/congruent/m': 161,\n",
    "   'response/incorrect/female/congruent/z': 166,\n",
    "   'response/incorrect/female/incongruent/m': 171,\n",
    "   'response/incorrect/female/incongruent/z': 176,\n",
    "   'response/incorrect/female/neutral/m': 181,\n",
    "   'response/incorrect/female/neutral/z': 186,\n",
    "   'response/incorrect/female/filler/m': 191,\n",
    "   'response/incorrect/female/filler/z': 196,\n",
    "   'response/incorrect/male/incongruent/m': 162,\n",
    "   'response/incorrect/male/incongruent/z': 167,\n",
    "   'response/incorrect/male/congruent/m': 172,\n",
    "   'response/incorrect/male/congruent/z': 177,\n",
    "   'response/incorrect/male/neutral/m': 182,\n",
    "   'response/incorrect/male/neutral/z': 187,\n",
    "   'response/incorrect/male/filler/m': 192,\n",
    "   'response/incorrect/male/filler/z': 197,\n",
    "   'response/incorrect/neutral/female/m': 163,\n",
    "   'response/incorrect/neutral/female/z': 168,\n",
    "   'response/incorrect/neutral/male/m': 173,\n",
    "   'response/incorrect/neutral/male/z': 178,\n",
    "   'response/incorrect/neutral/neutral/m': 183,\n",
    "   'response/incorrect/neutral/neutral/z': 188,\n",
    "   'response/incorrect/neutral/filler/m': 193,\n",
    "   'response/incorrect/neutral/filler/z': 198,\n",
    "   'response/incorrect/control/female/m': 164,\n",
    "   'response/incorrect/control/female/z': 169,\n",
    "   'response/incorrect/control/male/m': 174,\n",
    "   'response/incorrect/control/male/z': 179,\n",
    "   'response/incorrect/control/neutral/m': 184,\n",
    "   'response/incorrect/control/neutral/z': 189,\n",
    "   'response/incorrect/control/filler/m': 194,\n",
    "   'response/incorrect/control/filler/z': 199,\n",
    "   'response/correct/female/congruent/m': 211,\n",
    "   'response/correct/female/congruent/z': 216,\n",
    "   'response/correct/female/incongruent/m': 221,\n",
    "   'response/correct/female/incongruent/z': 226,\n",
    "   'response/correct/female/neutral/m': 231,\n",
    "   'response/correct/female/neutral/z': 236,\n",
    "   'response/correct/female/filler/m': 241,\n",
    "   'response/correct/female/filler/z': 246,\n",
    "   'response/correct/male/incongruent/m': 212,\n",
    "   'response/correct/male/incongruent/z': 217,\n",
    "   'response/correct/male/congruent/m': 222,\n",
    "   'response/correct/male/congruent/z': 227,\n",
    "   'response/correct/male/neutral/m': 232,\n",
    "   'response/correct/male/neutral/z': 237,\n",
    "   'response/correct/male/filler/m': 242,\n",
    "   'response/correct/male/filler/z': 247,\n",
    "   'response/correct/neutral/female/m': 213,\n",
    "   'response/correct/neutral/female/z': 218,\n",
    "   'response/correct/neutral/male/m': 223,\n",
    "   'response/correct/neutral/male/z': 228,\n",
    "   'response/correct/neutral/neutral/m': 233,\n",
    "   'response/correct/neutral/neutral/z': 238,\n",
    "   'response/correct/neutral/filler/m': 243,\n",
    "   'response/correct/neutral/filler/z': 248,\n",
    "   'response/correct/control/female/m': 214,\n",
    "   'response/correct/control/female/z': 219,\n",
    "   'response/correct/control/male/m': 224,\n",
    "   'response/correct/control/male/z': 229,\n",
    "   'response/correct/control/neutral/m': 234,\n",
    "   'response/correct/control/neutral/z': 239,\n",
    "   'response/correct/control/filler/m': 244,\n",
    "   'response/correct/control/filler/z': 249\n",
    "}"
   ]
  },
  {
   "cell_type": "code",
   "execution_count": null,
   "metadata": {},
   "outputs": [],
   "source": [
    "# STEP 2: Locate stimulus events in the recording and save it in a variable called events\n",
    "# we are doing it a bit differently since we dont have a stimulus channel like in the sample data\n",
    "# rather we have some annotations in the file\n",
    "# therefore I have provided the code for you :)\n",
    "events, _ = mne.events_from_annotations(raw)"
   ]
  },
  {
   "cell_type": "markdown",
   "metadata": {},
   "source": [
    "**THIS CODE IS ONLY TO BE RUN BY GROUP 1 AND GROUP 2**\n",
    "\n",
    "All other groups can just delete the code in the chunk below!"
   ]
  },
  {
   "cell_type": "code",
   "execution_count": 15,
   "metadata": {},
   "outputs": [],
   "source": [
    "# STEP 2B: ONLY GROUP 1 and GROUP 2\n",
    "# get rid of practise trials from the logfile\n",
    "logfile = logfile[logfile[\"practice\"]==\"no\"]\n",
    "events = update_events_group1_group2(events, event_id, logfile)"
   ]
  },
  {
   "cell_type": "code",
   "execution_count": 16,
   "metadata": {},
   "outputs": [],
   "source": [
    "# STEP 3 (EVERYONE): establish a time window for epochs (tmin and tmax)"
   ]
  },
  {
   "cell_type": "code",
   "execution_count": 17,
   "metadata": {},
   "outputs": [],
   "source": [
    "# STEP 4: Update event_id dictionary \n",
    "# when creating the epochs the function will throw an error if it doesn't find \n",
    "# at least one trigger matching all the events in the dictionary\n",
    "# however, if a participant never answered incorrectly to incongruent stimuli\n",
    "# we will not have that given trigger\n",
    "new_event_id = update_event_ids(events, event_id)\n"
   ]
  },
  {
   "cell_type": "code",
   "execution_count": null,
   "metadata": {},
   "outputs": [],
   "source": [
    "# STEP 5: Create the epochs\n",
    "epochs = mne.Epochs(\n",
    "    raw, \n",
    "    events,\n",
    "    event_id = new_event_id, \n",
    "    tmin = tmin, \n",
    "    tmax = tmax, \n",
    "    picks=[\"eeg\"],\n",
    "    baseline=(None, 0), \n",
    "    reject=reject, \n",
    "    preload=True\n",
    "    )"
   ]
  },
  {
   "cell_type": "markdown",
   "metadata": {},
   "source": [
    "**At this point call Laura over to have a look!**"
   ]
  },
  {
   "cell_type": "markdown",
   "metadata": {},
   "source": [
    "## 7. Downsampling"
   ]
  },
  {
   "cell_type": "code",
   "execution_count": null,
   "metadata": {},
   "outputs": [],
   "source": [
    "# STEP 1: Downsample to 250 Hz"
   ]
  },
  {
   "cell_type": "markdown",
   "metadata": {},
   "source": [
    "# Analysis\n",
    "Make some initial plots of the different conditions. You can get inspiration from the preprocessing tutorial notebook from yesterday!\n"
   ]
  }
 ],
 "metadata": {
  "kernelspec": {
   "display_name": "env",
   "language": "python",
   "name": "env"
  },
  "language_info": {
   "codemirror_mode": {
    "name": "ipython",
    "version": 3
   },
   "file_extension": ".py",
   "mimetype": "text/x-python",
   "name": "python",
   "nbconvert_exporter": "python",
   "pygments_lexer": "ipython3",
   "version": "3.12.3"
  },
  "orig_nbformat": 4
 },
 "nbformat": 4,
 "nbformat_minor": 2
}
