{
 "cells": [
  {
   "cell_type": "markdown",
   "metadata": {},
   "source": [
    "# Lexical Decision Task\n",
    "Today we will try to apply the general EEG preprocessing pipeline from the MNE tutorial to the EEG data from the lexical decision task.\n"
   ]
  },
  {
   "cell_type": "markdown",
   "metadata": {},
   "source": [
    "#### Setting up Python\n",
    "Before starting to analyse our own EEG data, we need to make sure we have our virtual environment we created during the `MNE-tutorial`.\n",
    "\n",
    "1. Press `Select Kernel`, then `Python Environments...` and then choose any Python kernel. \n",
    "2. Run the code chunk below\n",
    "3. Change the kernel used to run the code in this notebook. Press where it says `Python X.XX.XX` in the top right corner, then `Select Another Kernel`, then `Jupyter kernel...` and then select `env`. If `env` does not show up, press the little refresh symbol! "
   ]
  },
  {
   "cell_type": "code",
   "execution_count": 1,
   "metadata": {},
   "outputs": [
    {
     "name": "stdout",
     "output_type": "stream",
     "text": [
      "Installed kernelspec env in /home/ucloud/.local/share/jupyter/kernels/env\n"
     ]
    }
   ],
   "source": [
    "!bash ../env_to_ipynb_kernel.sh"
   ]
  },
  {
   "cell_type": "markdown",
   "metadata": {},
   "source": [
    "# Analysis of EEG data collected!\n",
    "The workflow of preprocessing is as follows!\n",
    "1. Load the data\n",
    "2. Exclude bad channels\n",
    "3. Common average reference\n",
    "4. Filtering\n",
    "5. Artefact rejection\n",
    "6. Epoching\n",
    "7. Downsampling\n",
    "\n",
    "This is the same workflow as in the `preprocessing_tutorial.ipynb`. This notebook serves as a \"skeleton\" where you fill out the code you need. All code bits needed can be found in the notebook from yesterday! "
   ]
  },
  {
   "cell_type": "markdown",
   "metadata": {},
   "source": [
    "<div class=\"alert alert-block alert-info\"><b>Tip:</b>\n",
    "The MNE package has some really nice documentation! If you have any questions on how to use a function or if you want to see other ways you can plot your data, have a look at it! \n",
    "\n",
    "https://mne.tools/stable/index.html"
   ]
  },
  {
   "cell_type": "code",
   "execution_count": 1,
   "metadata": {},
   "outputs": [],
   "source": [
    "import mne\n",
    "from pathlib import Path\n",
    "import matplotlib\n",
    "import numpy as np\n",
    "import pandas as pd\n",
    "\n",
    "# importing a function laura and andreas made to fix the triggers depending on the logfile\n",
    "import sys\n",
    "sys.path.append(\"..\")\n",
    "\n",
    "from helper_functions import update_events_group1_group2, update_event_ids\n",
    "\n",
    "%matplotlib inline"
   ]
  },
  {
   "cell_type": "markdown",
   "metadata": {},
   "source": [
    "## 1. Load the data\n",
    "As we are no longer using sample data from MNE, the process of loading the data will be a bit different. Therefore, code to help you is provided here! **Remember to change the group_number variable!**"
   ]
  },
  {
   "cell_type": "code",
   "execution_count": 2,
   "metadata": {},
   "outputs": [
    {
     "name": "stdout",
     "output_type": "stream",
     "text": [
      "Extracting parameters from /work/EEG_lab/raw/EEG/group1.vhdr...\n",
      "Setting channel info structure...\n",
      "Reading 0 ... 531959  =      0.000 ...   531.959 secs...\n"
     ]
    },
    {
     "data": {
      "text/html": [
       "<script type=\"text/javascript\">\n",
       "    const toggleVisibility = (className) => {\n",
       "\n",
       "  const elements = document.querySelectorAll(`.${className}`)\n",
       "\n",
       "  elements.forEach(element => {\n",
       "    if (element.classList.contains('repr-section-header')) {\n",
       "      // Don't collapse the section header row.\n",
       "       return\n",
       "    }\n",
       "    if (element.classList.contains('repr-element-collapsed')) {\n",
       "      // Force a reflow to ensure the display change takes effect before removing the class\n",
       "      element.classList.remove('repr-element-collapsed')\n",
       "      element.offsetHeight // This forces the browser to recalculate layout\n",
       "      element.classList.remove('repr-element-faded')\n",
       "    } else {\n",
       "      // Start transition to hide the element\n",
       "      element.classList.add('repr-element-faded')\n",
       "      element.addEventListener('transitionend', handler = (e) => {\n",
       "        if (e.propertyName === 'opacity' && getComputedStyle(element).opacity === '0.2') {\n",
       "          element.classList.add('repr-element-collapsed')\n",
       "          element.removeEventListener('transitionend', handler)\n",
       "        }\n",
       "      });\n",
       "    }\n",
       "  });\n",
       "\n",
       "  // Take care of button (adjust caret)\n",
       "  const button = document.querySelectorAll(`.repr-section-header.${className} > th.repr-section-toggle-col > button`)[0]\n",
       "  button.classList.toggle('collapsed')\n",
       "\n",
       "  // Take care of the tooltip of the section header row\n",
       "  const sectionHeaderRow = document.querySelectorAll(`tr.repr-section-header.${className}`)[0]\n",
       "  sectionHeaderRow.classList.toggle('collapsed')\n",
       "  sectionHeaderRow.title = sectionHeaderRow.title === 'Hide section' ? 'Show section' : 'Hide section'\n",
       "}\n",
       "</script>\n",
       "\n",
       "<style type=\"text/css\">\n",
       "    table.repr.table.table-hover.table-striped.table-sm.table-responsive.small {\n",
       "  /* Don't make rows wider than they need to be. */\n",
       "  display: inline;\n",
       "}\n",
       "\n",
       "table > tbody > tr.repr-element > td {\n",
       "  /* Apply a tighter layout to the table cells. */\n",
       "  padding-top: 0.1rem;\n",
       "  padding-bottom: 0.1rem;\n",
       "  padding-right: 1rem;\n",
       "}\n",
       "\n",
       "table > tbody > tr > td.repr-section-toggle-col {\n",
       "  /* Remove background and border of the first cell in every row\n",
       "     (this row is only used for the collapse / uncollapse caret)\n",
       "\n",
       "     TODO: Need to find a good solution for VS Code that works in both\n",
       "           light and dark mode. */\n",
       "  border-color: transparent;\n",
       "  --bs-table-accent-bg: transparent;\n",
       "}\n",
       "\n",
       "tr.repr-section-header {\n",
       "  /* Remove stripes from section header rows */\n",
       "  background-color: transparent;\n",
       "  border-color: transparent;\n",
       "  --bs-table-striped-bg: transparent;\n",
       "  cursor: pointer;\n",
       "}\n",
       "\n",
       "tr.repr-section-header > th {\n",
       "  text-align: left !important;\n",
       "  vertical-align: middle;\n",
       "}\n",
       "\n",
       ".repr-element, tr.repr-element > td {\n",
       "  opacity: 1;\n",
       "  text-align: left !important;\n",
       "}\n",
       "\n",
       ".repr-element-faded {\n",
       "  transition: 0.3s ease;\n",
       "  opacity: 0.2;\n",
       "}\n",
       "\n",
       ".repr-element-collapsed {\n",
       "  display: none;\n",
       "}\n",
       "\n",
       "/* Collapse / uncollapse button and the caret it contains. */\n",
       ".repr-section-toggle-col button {\n",
       "  cursor: pointer;\n",
       "  width: 1rem;\n",
       "  background-color: transparent;\n",
       "  border-color: transparent;\n",
       "}\n",
       "\n",
       "span.collapse-uncollapse-caret {\n",
       "  width: 1rem;\n",
       "  height: 1rem;\n",
       "  display: block;\n",
       "  background-repeat: no-repeat;\n",
       "  background-position: left;\n",
       "  background-size: contain;\n",
       "}\n",
       "\n",
       "/* The collapse / uncollapse carets were copied from the free Font Awesome collection and adjusted. */\n",
       "\n",
       "/* Default to black carets for light mode */\n",
       ".repr-section-toggle-col > button.collapsed > span.collapse-uncollapse-caret {\n",
       "  background-image: url('data:image/svg+xml;charset=utf8,<svg xmlns=\"http://www.w3.org/2000/svg\" viewBox=\"0 0 256 512\"><!--!Font Awesome Free 6.5.2 by @fontawesome - https://fontawesome.com License - https://fontawesome.com/license/free Copyright 2024 Fonticons, Inc.--><path fill=\"black\" d=\"M246.6 278.6c12.5-12.5 12.5-32.8 0-45.3l-128-128c-9.2-9.2-22.9-11.9-34.9-6.9s-19.8 16.6-19.8 29.6l0 256c0 12.9 7.8 24.6 19.8 29.6s25.7 2.2 34.9-6.9l128-128z\"/></svg>');\n",
       "}\n",
       "\n",
       ".repr-section-toggle-col\n",
       "  > button:not(.collapsed)\n",
       "  > span.collapse-uncollapse-caret {\n",
       "  background-image: url('data:image/svg+xml;charset=utf8,<svg xmlns=\"http://www.w3.org/2000/svg\" viewBox=\"0 0 320 512\"><!--!Font Awesome Free 6.5.2 by @fontawesome - https://fontawesome.com License - https://fontawesome.com/license/free Copyright 2024 Fonticons, Inc.--><path fill=\"black\" d=\"M137.4 374.6c12.5 12.5 32.8 12.5 45.3 0l128-128c9.2-9.2 11.9-22.9 6.9-34.9s-16.6-19.8-29.6-19.8L32 192c-12.9 0-24.6 7.8-29.6 19.8s-2.2 25.7 6.9 34.9l128 128z\"/></svg>');\n",
       "}\n",
       "\n",
       "/* Use white carets for dark mode */\n",
       "@media (prefers-color-scheme: dark) {\n",
       "  .repr-section-toggle-col > button.collapsed > span.collapse-uncollapse-caret {\n",
       "    background-image: url('data:image/svg+xml;charset=utf8,<svg xmlns=\"http://www.w3.org/2000/svg\" viewBox=\"0 0 256 512\"><!--!Font Awesome Free 6.5.2 by @fontawesome - https://fontawesome.com License - https://fontawesome.com/license/free Copyright 2024 Fonticons, Inc.--><path fill=\"white\" d=\"M246.6 278.6c12.5-12.5 12.5-32.8 0-45.3l-128-128c-9.2-9.2-22.9-11.9-34.9-6.9s-19.8 16.6-19.8 29.6l0 256c0 12.9 7.8 24.6 19.8 29.6s25.7 2.2 34.9-6.9l128-128z\"/></svg>');\n",
       "  }\n",
       "\n",
       "  .repr-section-toggle-col\n",
       "    > button:not(.collapsed)\n",
       "    > span.collapse-uncollapse-caret {\n",
       "    background-image: url('data:image/svg+xml;charset=utf8,<svg xmlns=\"http://www.w3.org/2000/svg\" viewBox=\"0 0 320 512\"><!--!Font Awesome Free 6.5.2 by @fontawesome - https://fontawesome.com License - https://fontawesome.com/license/free Copyright 2024 Fonticons, Inc.--><path fill=\"white\" d=\"M137.4 374.6c12.5 12.5 32.8 12.5 45.3 0l128-128c9.2-9.2 11.9-22.9 6.9-34.9s-16.6-19.8-29.6-19.8L32 192c-12.9 0-24.6 7.8-29.6 19.8s-2.2 25.7 6.9 34.9l128 128z\"/></svg>');\n",
       "  }\n",
       "}\n",
       "\n",
       ".channel-names-btn {\n",
       "  padding: 0;\n",
       "  border: none;\n",
       "  background: none;\n",
       "  text-decoration: underline;\n",
       "  text-decoration-style: dashed;\n",
       "  cursor: pointer;\n",
       "  color: #0d6efd;\n",
       "}\n",
       "\n",
       ".channel-names-btn:hover {\n",
       "  color: #0a58ca;\n",
       "}\n",
       "</style>\n",
       "\n",
       "\n",
       "\n",
       "<table class=\"repr table table-hover table-striped table-sm table-responsive small\">\n",
       "    \n",
       "\n",
       "\n",
       "\n",
       "\n",
       "\n",
       "\n",
       "\n",
       "<tr class=\"repr-section-header general-21ce903b-c604-4433-8026-f9ddca598107\"  title=\"Hide section\" \n",
       "    onclick=\"toggleVisibility('general-21ce903b-c604-4433-8026-f9ddca598107')\">\n",
       "    <th class=\"repr-section-toggle-col\">\n",
       "        <button>\n",
       "            \n",
       "            <span class=\"collapse-uncollapse-caret\"></span>\n",
       "        </button>\n",
       "    </th>\n",
       "    <th colspan=\"2\">\n",
       "        <strong>General</strong>\n",
       "    </th>\n",
       "</tr>\n",
       "\n",
       "<tr class=\"repr-element general-21ce903b-c604-4433-8026-f9ddca598107 \">\n",
       "    <td class=\"repr-section-toggle-col\"></td>\n",
       "    <td>Filename(s)</td>\n",
       "    <td>\n",
       "        \n",
       "        group1.eeg\n",
       "        \n",
       "        \n",
       "    </td>\n",
       "</tr>\n",
       "\n",
       "<tr class=\"repr-element general-21ce903b-c604-4433-8026-f9ddca598107 \">\n",
       "    <td class=\"repr-section-toggle-col\"></td>\n",
       "    <td>MNE object type</td>\n",
       "    <td>RawBrainVision</td>\n",
       "</tr>\n",
       "<tr class=\"repr-element general-21ce903b-c604-4433-8026-f9ddca598107 \">\n",
       "    <td class=\"repr-section-toggle-col\"></td>\n",
       "    <td>Measurement date</td>\n",
       "    \n",
       "    <td>2024-10-08 at 14:03:19 UTC</td>\n",
       "    \n",
       "</tr>\n",
       "<tr class=\"repr-element general-21ce903b-c604-4433-8026-f9ddca598107 \">\n",
       "    <td class=\"repr-section-toggle-col\"></td>\n",
       "    <td>Participant</td>\n",
       "    \n",
       "    <td>Unknown</td>\n",
       "    \n",
       "</tr>\n",
       "<tr class=\"repr-element general-21ce903b-c604-4433-8026-f9ddca598107 \">\n",
       "    <td class=\"repr-section-toggle-col\"></td>\n",
       "    <td>Experimenter</td>\n",
       "    \n",
       "    <td>Unknown</td>\n",
       "    \n",
       "</tr>\n",
       "    \n",
       "\n",
       "\n",
       "\n",
       "\n",
       "\n",
       "\n",
       "\n",
       "<tr class=\"repr-section-header acquisition-00e6133a-d29c-4c80-8e73-5d238c0994dd\" \n",
       "    title=\"Hide section\"  onclick=\"toggleVisibility('acquisition-00e6133a-d29c-4c80-8e73-5d238c0994dd')\">\n",
       "    <th class=\"repr-section-toggle-col\">\n",
       "        <button>\n",
       "            \n",
       "            <span class=\"collapse-uncollapse-caret\"></span>\n",
       "        </button>\n",
       "    </th>\n",
       "    <th colspan=\"2\">\n",
       "        <strong>Acquisition</strong>\n",
       "    </th>\n",
       "</tr>\n",
       "\n",
       "<tr class=\"repr-element acquisition-00e6133a-d29c-4c80-8e73-5d238c0994dd \">\n",
       "    <td class=\"repr-section-toggle-col\"></td>\n",
       "    <td>Duration</td>\n",
       "    <td>00:08:52 (HH:MM:SS)</td>\n",
       "</tr>\n",
       "\n",
       "\n",
       "\n",
       "\n",
       "\n",
       "\n",
       "\n",
       "\n",
       "<tr class=\"repr-element acquisition-00e6133a-d29c-4c80-8e73-5d238c0994dd \">\n",
       "    <td class=\"repr-section-toggle-col\"></td>\n",
       "    <td>Sampling frequency</td>\n",
       "    <td>1000.00 Hz</td>\n",
       "</tr>\n",
       "\n",
       "\n",
       "<tr class=\"repr-element acquisition-00e6133a-d29c-4c80-8e73-5d238c0994dd \">\n",
       "    <td class=\"repr-section-toggle-col\"></td>\n",
       "    <td>Time points</td>\n",
       "    <td>531,960</td>\n",
       "</tr>\n",
       "\n",
       "\n",
       "    \n",
       "\n",
       "\n",
       "\n",
       "\n",
       "\n",
       "\n",
       "\n",
       "<tr class=\"repr-section-header channels-d00ff4d2-438b-4cc7-87c3-e0add614ffa3\"  title=\"Hide section\" \n",
       "    onclick=\"toggleVisibility('channels-d00ff4d2-438b-4cc7-87c3-e0add614ffa3')\">\n",
       "    <th class=\"repr-section-toggle-col\">\n",
       "        <button>\n",
       "            \n",
       "            <span class=\"collapse-uncollapse-caret\"></span>\n",
       "        </button>\n",
       "    </th>\n",
       "    <th colspan=\"2\">\n",
       "        <strong>Channels</strong>\n",
       "    </th>\n",
       "</tr>\n",
       "\n",
       "\n",
       "<tr class=\"repr-element channels-d00ff4d2-438b-4cc7-87c3-e0add614ffa3 \">\n",
       "    <td class=\"repr-section-toggle-col\"></td>\n",
       "    <td>EEG</td>\n",
       "    <td>\n",
       "        <button class=\"channel-names-btn\" onclick=\"alert('Good EEG:\\n\\nFp1, F3, F7, FT9, FC5, FC1, C3, T7, TP9, CP5, CP1, Pz, P3, P7, O1, Oz, O2, P4, P8, TP10, CP6, CP2, Cz, C4, T8, FT10, FC6, FC2, F4, F8, Fp2')\" title=\"(Click to open in popup)&#13;&#13;Fp1, F3, F7, FT9, FC5, FC1, C3, T7, TP9, CP5, CP1, Pz, P3, P7, O1, Oz, O2, P4, P8, TP10, CP6, CP2, Cz, C4, T8, FT10, FC6, FC2, F4, F8, Fp2\">\n",
       "            31\n",
       "        </button>\n",
       "\n",
       "        \n",
       "    </td>\n",
       "</tr>\n",
       "\n",
       "\n",
       "<tr class=\"repr-element channels-d00ff4d2-438b-4cc7-87c3-e0add614ffa3 \">\n",
       "    <td class=\"repr-section-toggle-col\"></td>\n",
       "    <td>misc</td>\n",
       "    <td>\n",
       "        <button class=\"channel-names-btn\" onclick=\"alert('Good misc:\\n\\nAUX1')\" title=\"(Click to open in popup)&#13;&#13;AUX1\">\n",
       "            1\n",
       "        </button>\n",
       "\n",
       "        \n",
       "    </td>\n",
       "</tr>\n",
       "\n",
       "\n",
       "<tr class=\"repr-element channels-d00ff4d2-438b-4cc7-87c3-e0add614ffa3 \">\n",
       "    <td class=\"repr-section-toggle-col\"></td>\n",
       "    <td>Head & sensor digitization</td>\n",
       "    \n",
       "    <td>34 points</td>\n",
       "    \n",
       "</tr>\n",
       "    \n",
       "\n",
       "\n",
       "\n",
       "\n",
       "\n",
       "\n",
       "\n",
       "<tr class=\"repr-section-header filters-048b8dff-c472-46ff-89ed-0f33e9a0bf55\"  title=\"Hide section\" \n",
       "    onclick=\"toggleVisibility('filters-048b8dff-c472-46ff-89ed-0f33e9a0bf55')\">\n",
       "    <th class=\"repr-section-toggle-col\">\n",
       "        <button>\n",
       "            \n",
       "            <span class=\"collapse-uncollapse-caret\"></span>\n",
       "        </button>\n",
       "    </th>\n",
       "    <th colspan=\"2\">\n",
       "        <strong>Filters</strong>\n",
       "    </th>\n",
       "</tr>\n",
       "\n",
       "<tr class=\"repr-element filters-048b8dff-c472-46ff-89ed-0f33e9a0bf55 \">\n",
       "    <td class=\"repr-section-toggle-col\"></td>\n",
       "    <td>Highpass</td>\n",
       "    <td>0.00 Hz</td>\n",
       "</tr>\n",
       "\n",
       "\n",
       "<tr class=\"repr-element filters-048b8dff-c472-46ff-89ed-0f33e9a0bf55 \">\n",
       "    <td class=\"repr-section-toggle-col\"></td>\n",
       "    <td>Lowpass</td>\n",
       "    <td>280.00 Hz</td>\n",
       "</tr>\n",
       "\n",
       "\n",
       "</table>"
      ],
      "text/plain": [
       "<RawBrainVision | group1.eeg, 32 x 531960 (532.0 s), ~129.9 MB, data loaded>"
      ]
     },
     "execution_count": 2,
     "metadata": {},
     "output_type": "execute_result"
    }
   ],
   "source": [
    "# reading the file & loading in the data\n",
    "data_folder = Path(\"/work/EEG_lab/raw\")\n",
    "group_number = \"1\"\n",
    "\n",
    "# path to the data, made using the group_name variable \n",
    "EEG_path = data_folder / \"EEG\" / f\"group{group_number}.vhdr\"\n",
    "\n",
    "raw = mne.io.read_raw_brainvision(EEG_path)\n",
    "raw.load_data()\n",
    "\n",
    "# set standard montage (let MNE know the layout of the electrodes on the cap)\n",
    "montage = mne.channels.make_standard_montage('standard_1020')\n",
    "raw.set_montage(montage, verbose=False)"
   ]
  },
  {
   "cell_type": "code",
   "execution_count": 3,
   "metadata": {},
   "outputs": [],
   "source": [
    "# reading in the csv file with experiment information\n",
    "behavioural_path = data_folder / \"behavioural\" / f\"subject-{group_number}.csv\"\n",
    "logfile = pd.read_csv(behavioural_path)\n",
    "logfile.head() # prints the first lines of the csv file\n",
    "\n",
    "# clean logfile\n",
    "logfile[\"target_gender\"] = logfile[\"target_gender\"].apply(lambda x: x.strip())\n",
    "logfile[\"target_gender\"] = logfile[\"target_gender\"].apply(lambda x: x.strip(\"??\"))"
   ]
  },
  {
   "cell_type": "markdown",
   "metadata": {},
   "source": [
    "## 2. Exclude bad channels"
   ]
  },
  {
   "cell_type": "code",
   "execution_count": 5,
   "metadata": {},
   "outputs": [],
   "source": [
    "# sometimes filtering before plotting the channels can make it more nice to look at as we are getting rid of some noise!\n",
    "# BUT IF YOU FILTER HERE NO NEED TO DO IT FURTHER ALONG :D\n",
    "# raw.filter(0.1, 40)"
   ]
  },
  {
   "cell_type": "code",
   "execution_count": null,
   "metadata": {},
   "outputs": [],
   "source": [
    "# STEP 1: Plot the raw data to help you identify bad channels\n",
    "raw.plot(\n",
    "    n_channels=32, \n",
    "    start=100, \n",
    "    scalings={\"eeg\": 250e-7}, # try modifying this value to make the plot more pleasant to look at \n",
    "    duration=10);"
   ]
  },
  {
   "cell_type": "code",
   "execution_count": 7,
   "metadata": {},
   "outputs": [],
   "source": [
    "# STEP 2: Mark bad channels as bad if there are any!"
   ]
  },
  {
   "cell_type": "code",
   "execution_count": 8,
   "metadata": {},
   "outputs": [],
   "source": [
    "# STEP 3: Remove the bad channels"
   ]
  },
  {
   "cell_type": "markdown",
   "metadata": {},
   "source": [
    "## 3. Common average reference"
   ]
  },
  {
   "cell_type": "code",
   "execution_count": null,
   "metadata": {},
   "outputs": [],
   "source": [
    "# STEP 1: Choose the common average reference\n",
    "raw.set_eeg_reference('average', projection=True)\n",
    "\n",
    "# STEP 2: applying the reference to the data\n",
    "raw.apply_proj()"
   ]
  },
  {
   "cell_type": "markdown",
   "metadata": {},
   "source": [
    "## 4. Filtering"
   ]
  },
  {
   "cell_type": "code",
   "execution_count": 10,
   "metadata": {},
   "outputs": [],
   "source": [
    "# STEP 1: high-pass filter the data at 0.1 Hz and low-pass at 40 Hz\n",
    "\n",
    "# STEP 2: plot the filtered data for inspection"
   ]
  },
  {
   "cell_type": "markdown",
   "metadata": {},
   "source": [
    "## 5. Artefact rejection"
   ]
  },
  {
   "cell_type": "code",
   "execution_count": 11,
   "metadata": {},
   "outputs": [],
   "source": [
    "# Defining the threshold, we will apply it later when we are creating epochs\n",
    "reject = dict(eeg=150e-6)# 150 µV"
   ]
  },
  {
   "cell_type": "markdown",
   "metadata": {},
   "source": [
    "## 6. Epoching"
   ]
  },
  {
   "cell_type": "code",
   "execution_count": 5,
   "metadata": {},
   "outputs": [],
   "source": [
    "event_id = {\n",
    "   # word / prime / prime_gender / age\n",
    "   'word/prime/female/adult': 11,\n",
    "   'word/prime/female/child': 12,\n",
    "   'word/prime/female/neutral': 13,\n",
    "   'word/prime/male/adult': 21,\n",
    "   'word/prime/male/child': 22,\n",
    "   'word/prime/male/neutral': 23,\n",
    "   'word/prime/neutral/adult': 31,\n",
    "   'word/prime/neutral/child': 32,\n",
    "   'word/prime/neutral/neutral': 33,\n",
    "   'word/prime/filler': 40,\n",
    "\n",
    "   # word / target / target_gender / congruency or filler or neutral (prime gender)\n",
    "   'word/target/female/congruent': 111,\n",
    "   'word/target/female/incongruent': 121,\n",
    "   'word/target/female/neutral': 131,\n",
    "   'word/target/female/filler': 141,\n",
    "   'word/target/male/incongruent': 112,\n",
    "   'word/target/male/congruent': 122,\n",
    "   'word/target/male/neutral': 132,\n",
    "   'word/target/male/filler': 142,\n",
    "   'word/target/neutral/female': 113,\n",
    "   'word/target/neutral/male': 123,\n",
    "   'word/target/neutral/neutral': 133,\n",
    "   'word/target/neutral/filler': 143,\n",
    "   'word/target/control/female': 114,\n",
    "   'word/target/control/male': 124,\n",
    "   'word/target/control/neutral': 134,\n",
    "   'word/target/control/filler': 144,\n",
    "\n",
    "   # response / correct / target_gender / congruency or filler or neutral (prime gender) / button that was pressed\n",
    "   'response/incorrect/female/congruent/m': 161,\n",
    "   'response/incorrect/female/congruent/z': 166,\n",
    "   'response/incorrect/female/incongruent/m': 171,\n",
    "   'response/incorrect/female/incongruent/z': 176,\n",
    "   'response/incorrect/female/neutral/m': 181,\n",
    "   'response/incorrect/female/neutral/z': 186,\n",
    "   'response/incorrect/female/filler/m': 191,\n",
    "   'response/incorrect/female/filler/z': 196,\n",
    "   'response/incorrect/male/incongruent/m': 162,\n",
    "   'response/incorrect/male/incongruent/z': 167,\n",
    "   'response/incorrect/male/congruent/m': 172,\n",
    "   'response/incorrect/male/congruent/z': 177,\n",
    "   'response/incorrect/male/neutral/m': 182,\n",
    "   'response/incorrect/male/neutral/z': 187,\n",
    "   'response/incorrect/male/filler/m': 192,\n",
    "   'response/incorrect/male/filler/z': 197,\n",
    "   'response/incorrect/neutral/female/m': 163,\n",
    "   'response/incorrect/neutral/female/z': 168,\n",
    "   'response/incorrect/neutral/male/m': 173,\n",
    "   'response/incorrect/neutral/male/z': 178,\n",
    "   'response/incorrect/neutral/neutral/m': 183,\n",
    "   'response/incorrect/neutral/neutral/z': 188,\n",
    "   'response/incorrect/neutral/filler/m': 193,\n",
    "   'response/incorrect/neutral/filler/z': 198,\n",
    "   'response/incorrect/control/female/m': 164,\n",
    "   'response/incorrect/control/female/z': 169,\n",
    "   'response/incorrect/control/male/m': 174,\n",
    "   'response/incorrect/control/male/z': 179,\n",
    "   'response/incorrect/control/neutral/m': 184,\n",
    "   'response/incorrect/control/neutral/z': 189,\n",
    "   'response/incorrect/control/filler/m': 194,\n",
    "   'response/incorrect/control/filler/z': 199,\n",
    "   'response/correct/female/congruent/m': 211,\n",
    "   'response/correct/female/congruent/z': 216,\n",
    "   'response/correct/female/incongruent/m': 221,\n",
    "   'response/correct/female/incongruent/z': 226,\n",
    "   'response/correct/female/neutral/m': 231,\n",
    "   'response/correct/female/neutral/z': 236,\n",
    "   'response/correct/female/filler/m': 241,\n",
    "   'response/correct/female/filler/z': 246,\n",
    "   'response/correct/male/incongruent/m': 212,\n",
    "   'response/correct/male/incongruent/z': 217,\n",
    "   'response/correct/male/congruent/m': 222,\n",
    "   'response/correct/male/congruent/z': 227,\n",
    "   'response/correct/male/neutral/m': 232,\n",
    "   'response/correct/male/neutral/z': 237,\n",
    "   'response/correct/male/filler/m': 242,\n",
    "   'response/correct/male/filler/z': 247,\n",
    "   'response/correct/neutral/female/m': 213,\n",
    "   'response/correct/neutral/female/z': 218,\n",
    "   'response/correct/neutral/male/m': 223,\n",
    "   'response/correct/neutral/male/z': 228,\n",
    "   'response/correct/neutral/neutral/m': 233,\n",
    "   'response/correct/neutral/neutral/z': 238,\n",
    "   'response/correct/neutral/filler/m': 243,\n",
    "   'response/correct/neutral/filler/z': 248,\n",
    "   'response/correct/control/female/m': 214,\n",
    "   'response/correct/control/female/z': 219,\n",
    "   'response/correct/control/male/m': 224,\n",
    "   'response/correct/control/male/z': 229,\n",
    "   'response/correct/control/neutral/m': 234,\n",
    "   'response/correct/control/neutral/z': 239,\n",
    "   'response/correct/control/filler/m': 244,\n",
    "   'response/correct/control/filler/z': 249\n",
    "}"
   ]
  },
  {
   "cell_type": "code",
   "execution_count": 9,
   "metadata": {},
   "outputs": [
    {
     "name": "stdout",
     "output_type": "stream",
     "text": [
      "['filler' 'female' 'neutral' 'male']\n",
      "['female' 'control' 'neutral' 'male']\n"
     ]
    }
   ],
   "source": [
    "print(logfile[\"prime_gender\"].unique())\n",
    "print(logfile[\"target_gender\"].unique())"
   ]
  },
  {
   "cell_type": "code",
   "execution_count": 7,
   "metadata": {},
   "outputs": [
    {
     "name": "stdout",
     "output_type": "stream",
     "text": [
      "Used Annotations descriptions: [np.str_('New Segment/'), np.str_('Stimulus/S  1'), np.str_('Stimulus/S 10'), np.str_('Stimulus/S 20'), np.str_('Stimulus/S 30')]\n"
     ]
    }
   ],
   "source": [
    "# STEP 2: Locate stimulus events in the recording and save it in a variable called events\n",
    "# we are doing it a bit differently since we dont have a stimulus channel like in the sample data\n",
    "# rather we have some annotations in the file\n",
    "# therefore I have provided the code for you :)\n",
    "events, _ = mne.events_from_annotations(raw)"
   ]
  },
  {
   "cell_type": "markdown",
   "metadata": {},
   "source": [
    "**THIS CODE IS ONLY TO BE RUN BY GROUP 1 AND GROUP 2**\n",
    "\n",
    "All other groups can just delete the code in the chunk below!"
   ]
  },
  {
   "cell_type": "code",
   "execution_count": 8,
   "metadata": {},
   "outputs": [
    {
     "ename": "KeyError",
     "evalue": "'word/target/filler/female'",
     "output_type": "error",
     "traceback": [
      "\u001b[0;31m---------------------------------------------------------------------------\u001b[0m",
      "\u001b[0;31mKeyError\u001b[0m                                  Traceback (most recent call last)",
      "Cell \u001b[0;32mIn[8], line 5\u001b[0m\n\u001b[1;32m      1\u001b[0m \u001b[38;5;66;03m# STEP 2B: ONLY GROUP 1 and GROUP 2\u001b[39;00m\n\u001b[1;32m      2\u001b[0m \u001b[38;5;66;03m# get rid of practise trials from the logfile\u001b[39;00m\n\u001b[1;32m      3\u001b[0m logfile \u001b[38;5;241m=\u001b[39m logfile[logfile[\u001b[38;5;124m\"\u001b[39m\u001b[38;5;124mpractice\u001b[39m\u001b[38;5;124m\"\u001b[39m]\u001b[38;5;241m==\u001b[39m\u001b[38;5;124m\"\u001b[39m\u001b[38;5;124mno\u001b[39m\u001b[38;5;124m\"\u001b[39m]\n\u001b[0;32m----> 5\u001b[0m events \u001b[38;5;241m=\u001b[39m \u001b[43mupdate_events_group1_group2\u001b[49m\u001b[43m(\u001b[49m\u001b[43mevents\u001b[49m\u001b[43m,\u001b[49m\u001b[43m \u001b[49m\u001b[43mevent_id\u001b[49m\u001b[43m,\u001b[49m\u001b[43m \u001b[49m\u001b[43mlogfile\u001b[49m\u001b[43m)\u001b[49m\n",
      "File \u001b[0;32m/work/LauraBockPaulsen#1941/LaCoBra-E24/EEG-analysis/../helper_functions.py:99\u001b[0m, in \u001b[0;36mupdate_events_group1_group2\u001b[0;34m(events, event_id, logfile)\u001b[0m\n\u001b[1;32m     93\u001b[0m         tmp_event[\u001b[38;5;241m-\u001b[39m\u001b[38;5;241m1\u001b[39m] \u001b[38;5;241m=\u001b[39m event_id[\u001b[38;5;124mf\u001b[39m\u001b[38;5;124m\"\u001b[39m\u001b[38;5;124mword/target/\u001b[39m\u001b[38;5;132;01m{\u001b[39;00mprime_gender\u001b[38;5;132;01m}\u001b[39;00m\u001b[38;5;124m/\u001b[39m\u001b[38;5;132;01m{\u001b[39;00mcongruency\u001b[38;5;132;01m}\u001b[39;00m\u001b[38;5;124m\"\u001b[39m]\n\u001b[1;32m     95\u001b[0m     \u001b[38;5;66;03m#elif prime_gender == \"filler\":\u001b[39;00m\n\u001b[1;32m     96\u001b[0m     \u001b[38;5;66;03m#    tmp_event[-1] = event_id[f\"word/target/{prime_gender}\"]\u001b[39;00m\n\u001b[1;32m     97\u001b[0m     \n\u001b[1;32m     98\u001b[0m     \u001b[38;5;28;01melse\u001b[39;00m:\n\u001b[0;32m---> 99\u001b[0m         tmp_event[\u001b[38;5;241m-\u001b[39m\u001b[38;5;241m1\u001b[39m] \u001b[38;5;241m=\u001b[39m \u001b[43mevent_id\u001b[49m\u001b[43m[\u001b[49m\u001b[38;5;124;43mf\u001b[39;49m\u001b[38;5;124;43m\"\u001b[39;49m\u001b[38;5;124;43mword/target/\u001b[39;49m\u001b[38;5;132;43;01m{\u001b[39;49;00m\u001b[43mprime_gender\u001b[49m\u001b[38;5;132;43;01m}\u001b[39;49;00m\u001b[38;5;124;43m/\u001b[39;49m\u001b[38;5;132;43;01m{\u001b[39;49;00m\u001b[43mtarget_gender\u001b[49m\u001b[38;5;132;43;01m}\u001b[39;49;00m\u001b[38;5;124;43m\"\u001b[39;49m\u001b[43m]\u001b[49m\n\u001b[1;32m    102\u001b[0m \u001b[38;5;66;03m# WORKS\u001b[39;00m\n\u001b[1;32m    103\u001b[0m \u001b[38;5;28;01mif\u001b[39;00m event[\u001b[38;5;241m-\u001b[39m\u001b[38;5;241m1\u001b[39m] \u001b[38;5;241m==\u001b[39m \u001b[38;5;241m30\u001b[39m:\n",
      "\u001b[0;31mKeyError\u001b[0m: 'word/target/filler/female'"
     ]
    }
   ],
   "source": [
    "# STEP 2B: ONLY GROUP 1 and GROUP 2\n",
    "# get rid of practise trials from the logfile\n",
    "logfile = logfile[logfile[\"practice\"]==\"no\"]\n",
    "\n",
    "events = update_events_group1_group2(events, event_id, logfile)\n"
   ]
  },
  {
   "cell_type": "code",
   "execution_count": 15,
   "metadata": {},
   "outputs": [],
   "source": [
    "# STEP 3 (EVERYONE): establish a time window for epochs (tmin and tmax)"
   ]
  },
  {
   "cell_type": "code",
   "execution_count": 16,
   "metadata": {},
   "outputs": [],
   "source": [
    "# STEP 4: Update event_id dictionary \n",
    "# when creating the epochs the function will throw an error if it doesn't find \n",
    "# at least one trigger matching all the events in the dictionary\n",
    "# however, if a participant never answered incorrectly to incongruent stimuli\n",
    "# we will not have that given trigger\n",
    "new_event_id = update_event_ids(events, event_id)\n"
   ]
  },
  {
   "cell_type": "code",
   "execution_count": null,
   "metadata": {},
   "outputs": [],
   "source": [
    "# STEP 5: Create the epochs\n",
    "epochs = mne.Epochs(\n",
    "    raw, \n",
    "    events,\n",
    "    event_id = new_event_id, \n",
    "    tmin = tmin, \n",
    "    tmax = tmax, \n",
    "    picks=[\"eeg\"],\n",
    "    baseline=(None, 0), \n",
    "    reject=reject, \n",
    "    preload=True\n",
    "    )"
   ]
  },
  {
   "cell_type": "markdown",
   "metadata": {},
   "source": [
    "**At this point call Laura over to have a look!**"
   ]
  },
  {
   "cell_type": "markdown",
   "metadata": {},
   "source": [
    "## 7. Downsampling"
   ]
  },
  {
   "cell_type": "code",
   "execution_count": null,
   "metadata": {},
   "outputs": [],
   "source": [
    "# STEP 1: Downsample to 250 Hz"
   ]
  },
  {
   "cell_type": "markdown",
   "metadata": {},
   "source": [
    "# Analysis\n",
    "Make some initial plots of the different conditions. You can get inspiration from the preprocessing tutorial notebook from yesterday!\n"
   ]
  }
 ],
 "metadata": {
  "kernelspec": {
   "display_name": "env",
   "language": "python",
   "name": "env"
  },
  "language_info": {
   "codemirror_mode": {
    "name": "ipython",
    "version": 3
   },
   "file_extension": ".py",
   "mimetype": "text/x-python",
   "name": "python",
   "nbconvert_exporter": "python",
   "pygments_lexer": "ipython3",
   "version": "3.12.3"
  },
  "orig_nbformat": 4
 },
 "nbformat": 4,
 "nbformat_minor": 2
}
