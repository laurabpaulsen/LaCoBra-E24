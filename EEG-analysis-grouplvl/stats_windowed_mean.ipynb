{
 "cells": [
  {
   "cell_type": "markdown",
   "id": "059acd4d",
   "metadata": {},
   "source": [
    "# EEG Statistics\n",
    "\n",
    "Using some of the data you collected, we are going to go through a couple of different ways to discern whether the difference in signal between your conditions is statistically significant.\n",
    "\n",
    "#### Setting up Python\n",
    "Before starting to analyse our own EEG data, we need to make sure we have our virtual environment we created during the `MNE-tutorial`.\n",
    "\n",
    "1. Press `Select Kernel`, then `Python Environments...` and then choose any Python kernel. \n",
    "2. Run the code chunk below\n",
    "3. Change the kernel used to run the code in this notebook. Press where it says `Python X.XX.XX` in the top right corner, then `Select Another Kernel`, then `Jupyter kernel...` and then select `env`. If `env` does not show up, press the little refresh symbol! "
   ]
  },
  {
   "cell_type": "code",
   "execution_count": null,
   "id": "e0614dc9",
   "metadata": {},
   "outputs": [],
   "source": [
    "!bash ../env_to_ipynb_kernel.sh"
   ]
  },
  {
   "cell_type": "markdown",
   "id": "920b8639",
   "metadata": {},
   "source": [
    "#### Import packages"
   ]
  },
  {
   "cell_type": "code",
   "execution_count": 4,
   "id": "daa32cce",
   "metadata": {},
   "outputs": [],
   "source": [
    "import mne\n",
    "import numpy as np\n",
    "import pandas as pd\n",
    "from pathlib import Path\n",
    "\n",
    "# importing Lauras homemade functions for preprocessing\n",
    "import sys\n",
    "sys.path.append(\"..\")\n",
    "from helper_functions import preproc_subject, update_event_ids, update_events_group1_group2, event_id"
   ]
  },
  {
   "cell_type": "markdown",
   "id": "7eb4cfcd",
   "metadata": {},
   "source": [
    "\n",
    "## Epochs\n",
    "We need epochs for the statistical tests. We will be using the function from earlier today to preprocess the data!"
   ]
  },
  {
   "cell_type": "code",
   "execution_count": null,
   "id": "5a27c508",
   "metadata": {},
   "outputs": [],
   "source": [
    "# Load raw data \n",
    "# reading the file & loading in the data\n",
    "# path to the data folder \n",
    "data_folder = Path(\"/work/EEG_lab/raw\")\n",
    "group_number= \"1\"\n",
    "\n",
    "# path to the data - MAKE SURE TO CHANGE PATH ACCORDING TO YOUR GROUP NUMBER!\n",
    "data_path = data_folder / \"EEG\" / f\"group{group_number}.vhdr\"\n",
    "\n",
    "raw = mne.io.read_raw_brainvision(data_path)\n",
    "raw.load_data()\n",
    "\n",
    "# reading in the csv file with experiment information\n",
    "behavioural_path = data_folder / \"behavioural\" / f\"subject-{group_number}.csv\"\n",
    "logfile = pd.read_csv(behavioural_path)\n",
    "logfile.head() # prints the first lines of the csv file\n",
    "\n",
    "# clean logfile\n",
    "logfile[\"target_gender\"] = logfile[\"target_gender\"].apply(lambda x: x.strip())\n",
    "logfile[\"target_gender\"] = logfile[\"target_gender\"].apply(lambda x: x.strip(\"??\"))\n",
    "\n",
    "events, _ = mne.events_from_annotations(raw)\n"
   ]
  },
  {
   "cell_type": "markdown",
   "id": "2126fb2d",
   "metadata": {},
   "source": [
    "The preprocessing function needs to know which channels are bad. Please insert the ones you found yesterday here!"
   ]
  },
  {
   "cell_type": "code",
   "execution_count": 6,
   "id": "60ada7c5",
   "metadata": {},
   "outputs": [],
   "source": [
    "# INSERT BAD CHANNELS\n",
    "bad_channels = []"
   ]
  },
  {
   "cell_type": "code",
   "execution_count": 7,
   "id": "9c337a86",
   "metadata": {},
   "outputs": [],
   "source": [
    "# ONLY GROUP 1 and GROUP 2\n",
    "# get rid of practise trials from the logfile\n",
    "if group_number in [\"1\", \"2\"]: # checks the group number before it runs the code\n",
    "    logfile = logfile[logfile[\"practice\"]==\"no\"]\n",
    "    events = update_events_group1_group2(events, event_id, logfile)"
   ]
  },
  {
   "cell_type": "code",
   "execution_count": null,
   "id": "9eddb9b1",
   "metadata": {},
   "outputs": [],
   "source": [
    "# Lets preprocess the data\n",
    "epochs = preproc_subject(\n",
    "    raw, \n",
    "    event_id = update_event_ids(events, event_id), \n",
    "    events = events,\n",
    "    bad_channels = bad_channels, \n",
    "    reject = {\"eeg\":150e-6}, \n",
    "    l_freq = 1, \n",
    "    h_freq = 40, \n",
    "    tmin = -0.2, \n",
    "    tmax = 0.5, \n",
    "    baseline = (None, 0)\n",
    "    )"
   ]
  },
  {
   "cell_type": "markdown",
   "id": "65008175",
   "metadata": {},
   "source": [
    "Okay, now it is time for you to make some decisions! At this point you need to choose a contrast:\n",
    "1. 'word/target/female' & 'word/target/male'\n",
    "\n",
    "2. 'word/congruent' & 'word/incongruent'\n",
    "\n",
    "3. 'word/prime' & 'word/target'\n"
   ]
  },
  {
   "cell_type": "code",
   "execution_count": 14,
   "id": "a9762b2f",
   "metadata": {},
   "outputs": [],
   "source": [
    "# Extract the contrast you are interested in using the following code as an example\n",
    "epochs_condition1 = epochs[\"word/target/female\"]\n",
    "epochs_condition2 = epochs[\"word/target/female\"]"
   ]
  },
  {
   "cell_type": "code",
   "execution_count": null,
   "id": "03793e3c",
   "metadata": {},
   "outputs": [],
   "source": [
    "# lets check which events were included\n",
    "print(epochs_condition1)\n",
    "print(epochs_condition2)"
   ]
  },
  {
   "cell_type": "markdown",
   "id": "859ee979-9344-4e74-ad59-08eb6a89d58b",
   "metadata": {
    "tags": []
   },
   "source": [
    "## Windowed mean\n",
    "Now we have our two conditions: trials with words vs images. One of the simplest way in which we can determine whether the signal in our two conditions are statistically significant is by:\n",
    "\n",
    "1) Segmenting our data using only certain channels in a specific time window. Keep in mind that which time window and channels should be established a priori, for instance according to the literature. \n",
    "2) Taking the mean of that window across channels and and samples.\n",
    "3) Running statistical tests on the windowed means from the two conditions.\n",
    "\n",
    "In an experiment with multiple participants we would also average over trials from individual participants, in order to only have one data point per participant (and thereby avoid multiple comparisons). However, since we have one participant, we can keep one dimension of the individual data, i.e. the trials.\n",
    "\n",
    "### T-test\n",
    "We can now do a t-test on the trials from the two conditions, to establish whether the means of the two groups are statistically significant.\n",
    "\n",
    "We can use the get_data() function to get the numerical values of the signal (in microvolts) for the t-test. tmin and tmax are used to define the size of the window, and the picks are the channels that we expect to see an effect in."
   ]
  },
  {
   "cell_type": "code",
   "execution_count": null,
   "id": "f1c73fca-e820-4191-b071-19e144f3a5f4",
   "metadata": {
    "execution": {
     "iopub.execute_input": "2022-05-05T09:21:17.418277Z",
     "iopub.status.busy": "2022-05-05T09:21:17.417906Z",
     "iopub.status.idle": "2022-05-05T09:21:17.452462Z",
     "shell.execute_reply": "2022-05-05T09:21:17.451563Z",
     "shell.execute_reply.started": "2022-05-05T09:21:17.418239Z"
    },
    "tags": []
   },
   "outputs": [],
   "source": [
    "# INSERT CHANNEL NAMES YOU ARE INTERESTED IN BELOW\n",
    "picks = [\"xxx\", \"xxx\", \"xxx\"]\n",
    "\n",
    "\n",
    "# DETERMINE THE TIME FRAME YOU WANT TO LOOK AT (remember to write it in seconds )\n",
    "tmin_ttest = # insert number here\n",
    "tmax_ttest = # insert number here\n"
   ]
  },
  {
   "cell_type": "code",
   "execution_count": null,
   "id": "ce930af3",
   "metadata": {},
   "outputs": [],
   "source": [
    "# Now we can extract the data using the following logic\n",
    "data_condition1 = epochs_condition1.get_data(picks = picks, tmin = tmin_ttest, tmax = tmax_ttest)\n",
    "data_condition2 = epochs_condition2.get_data(picks = picks, tmin = tmin_ttest, tmax = tmax_ttest)"
   ]
  },
  {
   "cell_type": "markdown",
   "id": "24ad0aea-7a65-4dae-ade6-b3ca4cbf4e10",
   "metadata": {},
   "source": [
    "Investigating the resulting data; how many dimensions does the data have? What do you think they represent (i.e. which dimension is channels, trials, etc.)?"
   ]
  },
  {
   "cell_type": "code",
   "execution_count": null,
   "id": "2c9e2e07",
   "metadata": {},
   "outputs": [],
   "source": [
    "print(data_condition1.shape)\n",
    "print(data_condition2.shape)"
   ]
  },
  {
   "cell_type": "markdown",
   "id": "73213432",
   "metadata": {},
   "source": [
    "Now we can average over the data so we only have the trials dimension."
   ]
  },
  {
   "cell_type": "code",
   "execution_count": null,
   "id": "7945d0f9-517f-40e2-85bf-3e9487c1c02c",
   "metadata": {
    "execution": {
     "iopub.execute_input": "2022-05-05T09:21:17.455574Z",
     "iopub.status.busy": "2022-05-05T09:21:17.454920Z",
     "iopub.status.idle": "2022-05-05T09:21:17.587908Z",
     "shell.execute_reply": "2022-05-05T09:21:17.587307Z",
     "shell.execute_reply.started": "2022-05-05T09:21:17.455534Z"
    },
    "tags": []
   },
   "outputs": [],
   "source": [
    "data_condition1_mean = np.mean(data_condition1, axis=2) # averaging over the third dimension of the data\n",
    "print(data_condition1_mean.shape)\n",
    "\n",
    "data_condition1_mean = np.mean(data_condition1_mean, axis=1) # averaging over the second dimension of the data\n",
    "print(data_condition1_mean.shape)\n",
    "\n",
    "## Now do the same for the second condition!\n",
    "\n",
    "# INSERT CODE HERE"
   ]
  },
  {
   "cell_type": "markdown",
   "id": "239ebb4f",
   "metadata": {},
   "source": [
    "### Running the t-test"
   ]
  },
  {
   "cell_type": "code",
   "execution_count": 3,
   "id": "d5d2f134",
   "metadata": {},
   "outputs": [],
   "source": [
    "# installing additional packages\n",
    "from scipy import stats as st\n",
    "import statistics as stats"
   ]
  },
  {
   "cell_type": "code",
   "execution_count": null,
   "id": "8c3ab517-4410-414c-a900-7ecd5dd9068a",
   "metadata": {
    "execution": {
     "iopub.execute_input": "2022-05-05T09:21:17.589334Z",
     "iopub.status.busy": "2022-05-05T09:21:17.589047Z",
     "iopub.status.idle": "2022-05-05T09:21:18.047436Z",
     "shell.execute_reply": "2022-05-05T09:21:18.046909Z",
     "shell.execute_reply.started": "2022-05-05T09:21:17.589297Z"
    },
    "tags": []
   },
   "outputs": [],
   "source": [
    "# running the t-test\n",
    "st.ttest_ind(a=data_condition1_mean, b=data_condition2_mean)"
   ]
  },
  {
   "cell_type": "markdown",
   "id": "2fe5da7f",
   "metadata": {},
   "source": [
    "### Creating a nice plot to go with the t-test\n"
   ]
  },
  {
   "cell_type": "code",
   "execution_count": null,
   "id": "100881a2",
   "metadata": {},
   "outputs": [],
   "source": [
    "import matplotlib.pyplot as plt\n",
    "fig, ax = plt.subplots(1, figsize=(10, 5), dpi=300)\n",
    "\n",
    "# plot the time window used for the t-test\n",
    "ax.axvspan(tmin, tmax, color=\"grey\", alpha=0.2, label = \"Time window for t-test\")\n",
    "\n",
    "data_condition1_plot = epochs_condition1.get_data(picks = picks).mean(axis=(1,2)) # also extracting the data outside of the time window to show the entire epoch duration\n",
    "data_condition2_plot = epochs_condition2.get_data(picks = picks).mean(axis=(1,2))\n",
    "\n",
    "# GET TIMES LAURA\n",
    "\n",
    "ax.plot(times, data_condition1_plot, label=\"Nonword\", linestyle=\"-\", color=\"orange\")\n",
    "ax.plot(times, data_condition2_plot, label=\"Word\", linestyle=\"-\", color=\"blue\")\n",
    "\n",
    "# vertical line at 0\n",
    "ax.axvline(x=0, color=\"black\", linestyle=\"--\", linewidth=1)\n",
    "\n",
    "ax.set(xlabel=\"Time (s)\", ylabel=\"Amplitude\", title=\"ERP (INSERT CHOSEN CHANNEL NAMES HERE) \")\n",
    "ax.legend()\n",
    "plt.savefig(\"plots/figure1.png\")"
   ]
  }
 ],
 "metadata": {
  "kernelspec": {
   "display_name": "env",
   "language": "python",
   "name": "env"
  },
  "language_info": {
   "codemirror_mode": {
    "name": "ipython",
    "version": 3
   },
   "file_extension": ".py",
   "mimetype": "text/x-python",
   "name": "python",
   "nbconvert_exporter": "python",
   "pygments_lexer": "ipython3",
   "version": "3.12.3"
  },
  "toc": {
   "base_numbering": 1,
   "nav_menu": {},
   "number_sections": true,
   "sideBar": true,
   "skip_h1_title": false,
   "title_cell": "Table of Contents",
   "title_sidebar": "Contents",
   "toc_cell": false,
   "toc_position": {},
   "toc_section_display": true,
   "toc_window_display": false
  }
 },
 "nbformat": 4,
 "nbformat_minor": 5
}
